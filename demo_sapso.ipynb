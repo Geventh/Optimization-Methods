{
 "cells": [
  {
   "cell_type": "markdown",
   "id": "01b5d627",
   "metadata": {},
   "source": [
    "# SAPSO library - a demonstration\n",
    "\n",
    "This library allows to easily run SA and PSO experiments while providing convenient 2D plotting functions.\n",
    "Cells below demonstrate a possible workflow."
   ]
  },
  {
   "cell_type": "code",
   "execution_count": null,
   "id": "2485b246",
   "metadata": {},
   "outputs": [],
   "source": [
    "import numpy as np\n",
    "\n",
    "import sapso\n",
    "\n",
    "from sapso.sa import SimulatedAnnealing\n",
    "from sapso.pso import ParticleSwarmOptimization\n",
    "from sapso.plot import contour_plot\n",
    "from sapso.test import Ackley, Sphere, Beale, Himmelblau, Eggholder"
   ]
  },
  {
   "cell_type": "markdown",
   "id": "6671c739",
   "metadata": {},
   "source": [
    "## Demo: Simulated Annealing"
   ]
  },
  {
   "cell_type": "code",
   "execution_count": null,
   "id": "4cadba3c",
   "metadata": {},
   "outputs": [],
   "source": [
    "# select 2D test function\n",
    "tfunc_sa = Ackley()\n",
    "\n",
    "# default params\n",
    "kwargs_sa = {\n",
    "    'iterations'  : 1000,\n",
    "    'seed'        : 42,\n",
    "    'temperature' : None,  # uses default cooling scheme\n",
    "    'step_size'   : 0.1,   # make steps of size 1% of area width\n",
    "    'goal'        : 'min'  # 'min'/'max' for minimization/maximization\n",
    "}\n",
    "\n",
    "# instantiate SA manager class\n",
    "SA = SimulatedAnnealing(tfunc_sa.objective, tfunc_sa.area, **kwargs_sa)\n",
    "\n",
    "# optimize by simulated annealing\n",
    "history_sa = SA.optimize()\n",
    "\n",
    "# quickly print most important results\n",
    "sapso.utils.print_results(history_sa, tfunc_sa)\n"
   ]
  },
  {
   "cell_type": "code",
   "execution_count": null,
   "id": "43efda33",
   "metadata": {},
   "outputs": [],
   "source": [
    "# examine history dict of simulated_annealing()\n",
    "print(f\"history.keys()  : {list(history_sa.keys())}\")\n",
    "\n",
    "# examine meta information of history dict\n",
    "print(f\"* meta.keys()   : {list(history_sa['meta'].keys())}\")\n",
    "print(f\"* params.keys() : {list(history_sa['meta']['params'].keys())}\")"
   ]
  },
  {
   "cell_type": "markdown",
   "id": "e3991aec",
   "metadata": {},
   "source": [
    "## Demo: Particle Swarm Optimization"
   ]
  },
  {
   "cell_type": "code",
   "execution_count": null,
   "id": "17b947a7",
   "metadata": {},
   "outputs": [],
   "source": [
    "# select 2D test function\n",
    "tfunc_pso = Himmelblau()\n",
    "\n",
    "# default params\n",
    "kwargs_pso = {\n",
    "    'iterations'  : 1000,\n",
    "    'seed'        : 42,\n",
    "    'n_particles' : 100, \n",
    "    'w'           : 0.75,  # inertia weight, in [0,1)\n",
    "    'a_ind'       : 1.0,   # attraction individual best, typically in [1,3]\n",
    "    'a_neigh'     : 1.6,   # attraction neighbour best, typically in [1,3]\n",
    "    'goal'        : 'min'  # 'min'/'max' for minimization/maximization\n",
    "}\n",
    "\n",
    "# instantiate PSO manager class\n",
    "PSO = ParticleSwarmOptimization(tfunc_pso.objective, tfunc_pso.area, **kwargs_pso)\n",
    "\n",
    "# optimize by simulated annealing\n",
    "history_pso = PSO.optimize()\n",
    "\n",
    "# quickly print most important results\n",
    "sapso.utils.print_results(history_pso, tfunc_pso)\n"
   ]
  },
  {
   "cell_type": "code",
   "execution_count": null,
   "id": "eb3b7bb7",
   "metadata": {},
   "outputs": [],
   "source": [
    "# examine history dict of particle_swarm_optimization()\n",
    "print(f\"history.keys()  : {list(history_pso.keys())}\")\n",
    "\n",
    "# examine meta information of history dict\n",
    "print(f\"* meta.keys()   : {list(history_pso['meta'].keys())}\")\n",
    "print(f\"* params.keys() : {list(history_pso['meta']['params'].keys())}\")"
   ]
  },
  {
   "cell_type": "markdown",
   "id": "fba0593f",
   "metadata": {},
   "source": [
    "## Demo: Plotting Results"
   ]
  },
  {
   "cell_type": "markdown",
   "id": "6b8ec263",
   "metadata": {},
   "source": [
    "### Example: Single Plot"
   ]
  },
  {
   "cell_type": "code",
   "execution_count": null,
   "id": "70b9a8a1",
   "metadata": {},
   "outputs": [],
   "source": [
    "contour_plot(history_sa, tfunc_sa, title='')\n",
    "contour_plot(history_pso, tfunc_pso, title='')"
   ]
  },
  {
   "cell_type": "markdown",
   "id": "719da64e",
   "metadata": {},
   "source": [
    "### Example: multiple plots"
   ]
  },
  {
   "cell_type": "code",
   "execution_count": null,
   "id": "7e07160b",
   "metadata": {
    "scrolled": false
   },
   "outputs": [],
   "source": [
    "test_funcs = [\n",
    "    sapso.test.Ackley(),\n",
    "    sapso.test.Himmelblau(),\n",
    "    sapso.test.Beale(),\n",
    "    sapso.test.Eggholder(),\n",
    "    sapso.test.SchaffnerNo2(),\n",
    "    sapso.test.SchaffnerNo4(),\n",
    "]\n",
    "\n",
    "methods = [\n",
    "    'SA',\n",
    "    'PSO',\n",
    "]\n",
    "\n",
    "kwargs_sa = {\n",
    "    'iterations'  : 100,\n",
    "    'seed'        : 42,\n",
    "    'temperature' : None,  # uses default cooling scheme\n",
    "    'step_size'   : 0.1,   # steps of size step_size percentage of smallest length of hyper cube area\n",
    "    'goal'        : 'min'  # 'min'/'max' for minimization/maximization\n",
    "}\n",
    "\n",
    "kwargs_pso = {\n",
    "    'iterations'  : 100,\n",
    "    'seed'        : 43,\n",
    "    'n_particles' : 10, \n",
    "    'w'           : 0.75,  # inertia weight, in [0,1)\n",
    "    'a_ind'       : 1.0,   # attraction individual best, typically in [1,3]\n",
    "    'a_neigh'     : 1.6,   # attraction neighbour best, typically in [1,3]\n",
    "    'goal'        : 'min'  # 'min'/'max' for minimization/maximization\n",
    "}\n",
    "\n",
    "kwargs_method = [\n",
    "    kwargs_sa,\n",
    "    kwargs_pso,\n",
    "]\n",
    "\n",
    "\n",
    "kwargs_plot = {\n",
    "    'resolution'   : 100,\n",
    "    'cmap_bg'      : 'bone',     # cmap for background\n",
    "    'cmap_fg'      : 'Accent',    # cmap for traces of PSO plots\n",
    "    'title'        : None,       # don't set title\n",
    "    #'title'        : '',        # automatically set title\n",
    "    'title_length' : 'short',    # title ignored if title is ''\n",
    "}\n",
    "\n",
    "sapso.plot.comparison_plot(test_funcs, methods, kwargs_method, kwargs_plot)"
   ]
  }
 ],
 "metadata": {
  "kernelspec": {
   "display_name": "Python 3 (ipykernel)",
   "language": "python",
   "name": "python3"
  },
  "language_info": {
   "codemirror_mode": {
    "name": "ipython",
    "version": 3
   },
   "file_extension": ".py",
   "mimetype": "text/x-python",
   "name": "python",
   "nbconvert_exporter": "python",
   "pygments_lexer": "ipython3",
   "version": "3.10.10"
  }
 },
 "nbformat": 4,
 "nbformat_minor": 5
}
