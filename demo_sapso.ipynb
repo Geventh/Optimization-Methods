{
 "cells": [
  {
   "cell_type": "markdown",
   "id": "01b5d627",
   "metadata": {},
   "source": [
    "# SAPSO library - a demonstration\n",
    "\n",
    "This library allows to easily run SA and PSO experiments while providing convenient 2D plotting functions.\n",
    "Cells below demonstrate a possible workflow."
   ]
  },
  {
   "cell_type": "code",
   "execution_count": null,
   "id": "2485b246",
   "metadata": {},
   "outputs": [],
   "source": [
    "import numpy as np\n",
    "\n",
    "import sapso\n",
    "\n",
    "from sapso.sa import SimulatedAnnealing\n",
    "from sapso.pso import ParticleSwarmOptimization\n",
    "from sapso.plot import contour_plot\n",
    "from sapso.test import Ackley, Sphere, Beale, Himmelblau, Eggholder"
   ]
  },
  {
   "cell_type": "markdown",
   "id": "6671c739",
   "metadata": {},
   "source": [
    "## Demo: Simulated Annealing"
   ]
  },
  {
   "cell_type": "code",
   "execution_count": null,
   "id": "4cadba3c",
   "metadata": {},
   "outputs": [],
   "source": [
    "# select 2D test function\n",
    "tfunc_sa = Ackley()\n",
    "\n",
    "# default params\n",
    "kwargs_sa = {\n",
    "    'iterations'  : 5000,\n",
    "    'seed'        : 42,\n",
    "    'temperature' : None,  # uses default cooling scheme\n",
    "    'step_size'   : 0.1,\n",
    "    'goal'        : 'min'  # 'min'/'max' for minimization/maximization\n",
    "}\n",
    "\n",
    "# instantiate SA manager class\n",
    "SA = SimulatedAnnealing(tfunc_sa.objective, tfunc_sa.area, **kwargs_sa)\n",
    "\n",
    "# optimize by simulated annealing\n",
    "history_sa = SA.optimize()\n",
    "\n",
    "# quickly print most important results\n",
    "sapso.utils.print_results(history_sa, tfunc_sa)"
   ]
  },
  {
   "cell_type": "code",
   "execution_count": null,
   "id": "43efda33",
   "metadata": {},
   "outputs": [],
   "source": [
    "# examine history dict of simulated_annealing()\n",
    "print(f\"history.keys()  : {list(history_sa.keys())}\")\n",
    "\n",
    "# examine meta information of history dict\n",
    "print(f\"* meta.keys()   : {list(history_sa['meta'].keys())}\")\n",
    "print(f\"* params.keys() : {list(history_sa['meta']['params'].keys())}\")"
   ]
  },
  {
   "cell_type": "markdown",
   "id": "e3991aec",
   "metadata": {},
   "source": [
    "## Demo: Particle Swarm Optimization"
   ]
  },
  {
   "cell_type": "code",
   "execution_count": null,
   "id": "17b947a7",
   "metadata": {},
   "outputs": [],
   "source": [
    "# select 2D test function\n",
    "tfunc_pso = Eggholder()\n",
    "\n",
    "# default params\n",
    "kwargs_pso = {\n",
    "    'iterations'  : 1000,\n",
    "    'seed'        : 42,\n",
    "    'n_particles' : 100, \n",
    "    'w'           : 0.75,  # inertia weight, in [0,1)\n",
    "    'a_ind'       : 1.0,   # attraction individual best, typically in [1,3]\n",
    "    'a_neigh'     : 1.6,   # attraction neighbour best, typically in [1,3]\n",
    "    'goal'        : 'min'  # 'min'/'max' for minimization/maximization\n",
    "}\n",
    "\n",
    "# instantiate PSO manager class\n",
    "PSO = ParticleSwarmOptimization(tfunc_pso.objective, tfunc_pso.area, **kwargs_pso)\n",
    "\n",
    "# optimize by simulated annealing\n",
    "history_pso = PSO.optimize()\n",
    "\n",
    "# quickly print most important results\n",
    "sapso.utils.print_results(history_sa, tfunc_sa)"
   ]
  },
  {
   "cell_type": "code",
   "execution_count": null,
   "id": "eb3b7bb7",
   "metadata": {},
   "outputs": [],
   "source": [
    "# examine history dict of particle_swarm_optimization()\n",
    "print(f\"history.keys()  : {list(history_pso.keys())}\")\n",
    "\n",
    "# examine meta information of history dict\n",
    "print(f\"* meta.keys()   : {list(history_pso['meta'].keys())}\")\n",
    "print(f\"* params.keys() : {list(history_pso['meta']['params'].keys())}\")"
   ]
  },
  {
   "cell_type": "markdown",
   "id": "fba0593f",
   "metadata": {},
   "source": [
    "## Demo: plotting results"
   ]
  },
  {
   "cell_type": "code",
   "execution_count": null,
   "id": "62729326",
   "metadata": {},
   "outputs": [],
   "source": [
    "import matplotlib.pyplot as plt"
   ]
  },
  {
   "cell_type": "markdown",
   "id": "6b8ec263",
   "metadata": {},
   "source": [
    "## Example: single plot"
   ]
  },
  {
   "cell_type": "code",
   "execution_count": null,
   "id": "70b9a8a1",
   "metadata": {},
   "outputs": [],
   "source": [
    "contour_plot(history_sa, tfunc_sa, title='')\n",
    "contour_plot(history_pso, tfunc_pso, title='')\n",
    "\n",
    "# save figure if desired\n",
    "if False:\n",
    "    plt.savefig('plots/example_single.png')"
   ]
  },
  {
   "cell_type": "markdown",
   "id": "719da64e",
   "metadata": {},
   "source": [
    "## Example: multiple plots\n",
    "\n",
    "This is one possibility to create comparison plots.\n",
    "For example, here two methods are compared on two different test functions."
   ]
  },
  {
   "cell_type": "code",
   "execution_count": null,
   "id": "a3ed3d8a",
   "metadata": {},
   "outputs": [],
   "source": [
    "# choose interesting test functions\n",
    "\n",
    "tfun1 = Ackley()\n",
    "tfun2 = Eggholder()\n",
    "\n",
    "# run some experiments and gather data\n",
    "\n",
    "hists = dict()\n",
    "tfuncs = { tfun1.name : tfun1, tfun2.name: tfun2 }\n",
    "\n",
    "# TODO: fine-tune kwargs_sa and kwargs_pso\n",
    "\n",
    "kwargs_sa = {\n",
    "    'iterations'  : 5000,\n",
    "    'seed'        : 42,\n",
    "    'temperature' : None,  # uses default cooling scheme\n",
    "    'step_size'   : 0.1,\n",
    "    'goal'        : 'min'  # 'min'/'max' for minimization/maximization\n",
    "}\n",
    "\n",
    "kwargs_pso = {\n",
    "    'iterations'  : 1000,\n",
    "    'seed'        : 42,\n",
    "    'n_particles' : 100, \n",
    "    'w'           : 0.75,  # inertia weight, in [0,1)\n",
    "    'a_ind'       : 1.0,   # attraction individual best, typically in [1,3]\n",
    "    'a_neigh'     : 1.6,   # attraction neighbour best, typically in [1,3]\n",
    "    'goal'        : 'min'  # 'min'/'max' for minimization/maximization\n",
    "}\n",
    "\n",
    "SA_exp1 = SimulatedAnnealing(tfuncs[tfun1.name].objective, tfuncs[tfun1.name].area, **kwargs_sa)\n",
    "hists['SA_' + tfun1.name] = SA_exp1.optimize() # TODO: add function get_history that first optimizes or return hist\n",
    "sapso.utils.print_results(hists['SA_' + tfun1.name], tfuncs[tfun1.name], end='\\n\\n')\n",
    "\n",
    "PSO_exp1 = ParticleSwarmOptimization(tfuncs[tfun1.name].objective, tfuncs[tfun1.name].area, **kwargs_pso)\n",
    "hists['PSO_' + tfun1.name] = PSO_exp1.optimize()\n",
    "sapso.utils.print_results(hists['PSO_' + tfun1.name], tfuncs[tfun1.name], end='\\n\\n')\n",
    "\n",
    "SA_exp2 = SimulatedAnnealing(tfuncs[tfun2.name].objective, tfuncs[tfun2.name].area, **kwargs_sa)\n",
    "hists['SA_' + tfun2.name] = SA_exp2.optimize()\n",
    "sapso.utils.print_results(hists['SA_' + tfun2.name], tfuncs[tfun2.name], end='\\n\\n')\n",
    "\n",
    "PSO_exp2 = ParticleSwarmOptimization(tfuncs[tfun2.name].objective, tfuncs[tfun2.name].area, **kwargs_pso)\n",
    "hists['PSO_' + tfun2.name] = PSO_exp2.optimize()\n",
    "sapso.utils.print_results(hists['PSO_' + tfun2.name], tfuncs[tfun2.name])"
   ]
  },
  {
   "cell_type": "markdown",
   "id": "81bad7d2",
   "metadata": {},
   "source": [
    "Now we can actually plot the obtained results given the histories and the test functions."
   ]
  },
  {
   "cell_type": "code",
   "execution_count": null,
   "id": "b08c0c99",
   "metadata": {},
   "outputs": [],
   "source": [
    "# plot results in a 2x2 plot\n",
    "\n",
    "fig, axes = plt.subplots(2,2)\n",
    "\n",
    "kwargs_plot = {\n",
    "    'resolution'   : 100,\n",
    "    'cmap_bg'      : 'bone',     # cmap for background\n",
    "    'cmap_fg'      : 'tab20',    # cmap for traces of PSO plots\n",
    "    'title'        : None,       # don't set title\n",
    "    #'title'        : '',        # automatically set title\n",
    "    'title_length' : 'short'     # title ignored if title is ''\n",
    "}\n",
    "\n",
    "cbar = contour_plot(\n",
    "    hists['SA_' + tfun1.name], tfuncs[tfun1.name], ax=axes[0, 0], **kwargs_plot\n",
    ")\n",
    "\n",
    "particle_id = contour_plot(\n",
    "    hists['PSO_' + tfun1.name], tfuncs[tfun1.name], ax=axes[0, 1], **kwargs_plot\n",
    ")\n",
    "\n",
    "cbar = contour_plot(\n",
    "    hists['SA_'+ tfun2.name], tfuncs[tfun2.name], ax=axes[1, 0], **kwargs_plot\n",
    ")\n",
    "\n",
    "_ = contour_plot(\n",
    "    hists['PSO_'+ tfun2.name], tfuncs[tfun2.name], ax=axes[1, 1], **kwargs_plot\n",
    ")\n",
    "\n",
    "# add colorbar to figure once\n",
    "fig.colorbar(cbar, ax=axes.ravel().tolist())\n",
    "\n",
    "xlabels = ['SA', 'PSO', 'SA', 'PSO']\n",
    "ylabels = [tfun1.name, tfun1.name, tfun2.name, tfun2.name]\n",
    "\n",
    "# set labels for each subplot\n",
    "for ax, ometh, tfun in zip(axes.flat, xlabels, ylabels):\n",
    "    ax.set(xlabel=ometh, ylabel=tfun)\n",
    "\n",
    "# hide x labels and tick labels for top plots and y ticks for right plots\n",
    "for ax in axes.flat:\n",
    "    ax.label_outer()\n",
    "    \n",
    "# save figure if desired\n",
    "if False:\n",
    "    plt.savefig('plots/example_multiple.png')"
   ]
  },
  {
   "cell_type": "code",
   "execution_count": null,
   "id": "32411226",
   "metadata": {},
   "outputs": [],
   "source": []
  }
 ],
 "metadata": {
  "kernelspec": {
   "display_name": "Python 3 (ipykernel)",
   "language": "python",
   "name": "python3"
  },
  "language_info": {
   "codemirror_mode": {
    "name": "ipython",
    "version": 3
   },
   "file_extension": ".py",
   "mimetype": "text/x-python",
   "name": "python",
   "nbconvert_exporter": "python",
   "pygments_lexer": "ipython3",
   "version": "3.10.10"
  }
 },
 "nbformat": 4,
 "nbformat_minor": 5
}
